{
 "cells": [
  {
   "cell_type": "code",
   "execution_count": 13,
   "metadata": {},
   "outputs": [],
   "source": [
    "import pandas as pd\n",
    "\n",
    "df = pd.DataFrame([100,101,102,103,104,105,106, 107, 108, 109, 110, 111, 112, 113, 114, 115, 116, 117, 118, 119, 120])\n",
    "\n",
    "\n",
    "\n",
    "daily_return = df.pct_change(1) # 1 for ONE DAY lookback\n",
    "monthly_return = df.pct_change(2) # 21 for ONE MONTH lookback \n",
    "annual_return = df.pct_change(10) # 252 for ONE YEAR lookbac\n"
   ]
  },
  {
   "cell_type": "code",
   "execution_count": 14,
   "metadata": {},
   "outputs": [
    {
     "output_type": "stream",
     "name": "stdout",
     "text": "daily\n           0\n0        NaN\n1   0.010000\n2   0.009901\n3   0.009804\n4   0.009709\n5   0.009615\n6   0.009524\n7   0.009434\n8   0.009346\n9   0.009259\n10  0.009174\n11  0.009091\n12  0.009009\n13  0.008929\n14  0.008850\n15  0.008772\n16  0.008696\n17  0.008621\n18  0.008547\n19  0.008475\n20  0.008403\n2 days\n           0\n0        NaN\n1        NaN\n2   0.020000\n3   0.019802\n4   0.019608\n5   0.019417\n6   0.019231\n7   0.019048\n8   0.018868\n9   0.018692\n10  0.018519\n11  0.018349\n12  0.018182\n13  0.018018\n14  0.017857\n15  0.017699\n16  0.017544\n17  0.017391\n18  0.017241\n19  0.017094\n20  0.016949\n10 days\n           0\n0        NaN\n1        NaN\n2        NaN\n3        NaN\n4        NaN\n5        NaN\n6        NaN\n7        NaN\n8        NaN\n9        NaN\n10  0.100000\n11  0.099010\n12  0.098039\n13  0.097087\n14  0.096154\n15  0.095238\n16  0.094340\n17  0.093458\n18  0.092593\n19  0.091743\n20  0.090909\n"
    }
   ],
   "source": [
    "print('daily')\n",
    "print(daily_return)\n",
    "\n",
    "print('2 days')\n",
    "print(monthly_return)\n",
    "\n",
    "print('10 days')\n",
    "print(annual_return)\n"
   ]
  },
  {
   "cell_type": "code",
   "execution_count": 15,
   "metadata": {},
   "outputs": [
    {
     "output_type": "execute_result",
     "data": {
      "text/plain": "      0    3ma    5ma\n0   100    NaN    NaN\n1   101    NaN    NaN\n2   102  101.0    NaN\n3   103  102.0    NaN\n4   104  103.0  102.0\n5   105  104.0  103.0\n6   106  105.0  104.0\n7   107  106.0  105.0\n8   108  107.0  106.0\n9   109  108.0  107.0\n10  110  109.0  108.0\n11  111  110.0  109.0\n12  112  111.0  110.0\n13  113  112.0  111.0\n14  114  113.0  112.0\n15  115  114.0  113.0\n16  116  115.0  114.0\n17  117  116.0  115.0\n18  118  117.0  116.0\n19  119  118.0  117.0\n20  120  119.0  118.0",
      "text/html": "<div>\n<style scoped>\n    .dataframe tbody tr th:only-of-type {\n        vertical-align: middle;\n    }\n\n    .dataframe tbody tr th {\n        vertical-align: top;\n    }\n\n    .dataframe thead th {\n        text-align: right;\n    }\n</style>\n<table border=\"1\" class=\"dataframe\">\n  <thead>\n    <tr style=\"text-align: right;\">\n      <th></th>\n      <th>0</th>\n      <th>3ma</th>\n      <th>5ma</th>\n    </tr>\n  </thead>\n  <tbody>\n    <tr>\n      <th>0</th>\n      <td>100</td>\n      <td>NaN</td>\n      <td>NaN</td>\n    </tr>\n    <tr>\n      <th>1</th>\n      <td>101</td>\n      <td>NaN</td>\n      <td>NaN</td>\n    </tr>\n    <tr>\n      <th>2</th>\n      <td>102</td>\n      <td>101.0</td>\n      <td>NaN</td>\n    </tr>\n    <tr>\n      <th>3</th>\n      <td>103</td>\n      <td>102.0</td>\n      <td>NaN</td>\n    </tr>\n    <tr>\n      <th>4</th>\n      <td>104</td>\n      <td>103.0</td>\n      <td>102.0</td>\n    </tr>\n    <tr>\n      <th>5</th>\n      <td>105</td>\n      <td>104.0</td>\n      <td>103.0</td>\n    </tr>\n    <tr>\n      <th>6</th>\n      <td>106</td>\n      <td>105.0</td>\n      <td>104.0</td>\n    </tr>\n    <tr>\n      <th>7</th>\n      <td>107</td>\n      <td>106.0</td>\n      <td>105.0</td>\n    </tr>\n    <tr>\n      <th>8</th>\n      <td>108</td>\n      <td>107.0</td>\n      <td>106.0</td>\n    </tr>\n    <tr>\n      <th>9</th>\n      <td>109</td>\n      <td>108.0</td>\n      <td>107.0</td>\n    </tr>\n    <tr>\n      <th>10</th>\n      <td>110</td>\n      <td>109.0</td>\n      <td>108.0</td>\n    </tr>\n    <tr>\n      <th>11</th>\n      <td>111</td>\n      <td>110.0</td>\n      <td>109.0</td>\n    </tr>\n    <tr>\n      <th>12</th>\n      <td>112</td>\n      <td>111.0</td>\n      <td>110.0</td>\n    </tr>\n    <tr>\n      <th>13</th>\n      <td>113</td>\n      <td>112.0</td>\n      <td>111.0</td>\n    </tr>\n    <tr>\n      <th>14</th>\n      <td>114</td>\n      <td>113.0</td>\n      <td>112.0</td>\n    </tr>\n    <tr>\n      <th>15</th>\n      <td>115</td>\n      <td>114.0</td>\n      <td>113.0</td>\n    </tr>\n    <tr>\n      <th>16</th>\n      <td>116</td>\n      <td>115.0</td>\n      <td>114.0</td>\n    </tr>\n    <tr>\n      <th>17</th>\n      <td>117</td>\n      <td>116.0</td>\n      <td>115.0</td>\n    </tr>\n    <tr>\n      <th>18</th>\n      <td>118</td>\n      <td>117.0</td>\n      <td>116.0</td>\n    </tr>\n    <tr>\n      <th>19</th>\n      <td>119</td>\n      <td>118.0</td>\n      <td>117.0</td>\n    </tr>\n    <tr>\n      <th>20</th>\n      <td>120</td>\n      <td>119.0</td>\n      <td>118.0</td>\n    </tr>\n  </tbody>\n</table>\n</div>"
     },
     "metadata": {},
     "execution_count": 15
    }
   ],
   "source": [
    "\n",
    "df['3ma'] = df[0].rolling(window=3).mean()\n",
    "df['5ma'] = df[0].rolling(window=5).mean()\n",
    "\n",
    "df\n"
   ]
  },
  {
   "cell_type": "code",
   "execution_count": 16,
   "metadata": {},
   "outputs": [
    {
     "output_type": "execute_result",
     "data": {
      "text/plain": "      0    3ma    5ma     daily     5days    10days  20days\n0   100    NaN    NaN       NaN       NaN       NaN     NaN\n1   101    NaN    NaN  0.010000       NaN       NaN     NaN\n2   102  101.0    NaN  0.009901       NaN       NaN     NaN\n3   103  102.0    NaN  0.009804       NaN       NaN     NaN\n4   104  103.0  102.0  0.009709       NaN       NaN     NaN\n5   105  104.0  103.0  0.009615  0.050000       NaN     NaN\n6   106  105.0  104.0  0.009524  0.049505       NaN     NaN\n7   107  106.0  105.0  0.009434  0.049020       NaN     NaN\n8   108  107.0  106.0  0.009346  0.048544       NaN     NaN\n9   109  108.0  107.0  0.009259  0.048077       NaN     NaN\n10  110  109.0  108.0  0.009174  0.047619  0.100000     NaN\n11  111  110.0  109.0  0.009091  0.047170  0.099010     NaN\n12  112  111.0  110.0  0.009009  0.046729  0.098039     NaN\n13  113  112.0  111.0  0.008929  0.046296  0.097087     NaN\n14  114  113.0  112.0  0.008850  0.045872  0.096154     NaN\n15  115  114.0  113.0  0.008772  0.045455  0.095238     NaN\n16  116  115.0  114.0  0.008696  0.045045  0.094340     NaN\n17  117  116.0  115.0  0.008621  0.044643  0.093458     NaN\n18  118  117.0  116.0  0.008547  0.044248  0.092593     NaN\n19  119  118.0  117.0  0.008475  0.043860  0.091743     NaN\n20  120  119.0  118.0  0.008403  0.043478  0.090909     0.2",
      "text/html": "<div>\n<style scoped>\n    .dataframe tbody tr th:only-of-type {\n        vertical-align: middle;\n    }\n\n    .dataframe tbody tr th {\n        vertical-align: top;\n    }\n\n    .dataframe thead th {\n        text-align: right;\n    }\n</style>\n<table border=\"1\" class=\"dataframe\">\n  <thead>\n    <tr style=\"text-align: right;\">\n      <th></th>\n      <th>0</th>\n      <th>3ma</th>\n      <th>5ma</th>\n      <th>daily</th>\n      <th>5days</th>\n      <th>10days</th>\n      <th>20days</th>\n    </tr>\n  </thead>\n  <tbody>\n    <tr>\n      <th>0</th>\n      <td>100</td>\n      <td>NaN</td>\n      <td>NaN</td>\n      <td>NaN</td>\n      <td>NaN</td>\n      <td>NaN</td>\n      <td>NaN</td>\n    </tr>\n    <tr>\n      <th>1</th>\n      <td>101</td>\n      <td>NaN</td>\n      <td>NaN</td>\n      <td>0.010000</td>\n      <td>NaN</td>\n      <td>NaN</td>\n      <td>NaN</td>\n    </tr>\n    <tr>\n      <th>2</th>\n      <td>102</td>\n      <td>101.0</td>\n      <td>NaN</td>\n      <td>0.009901</td>\n      <td>NaN</td>\n      <td>NaN</td>\n      <td>NaN</td>\n    </tr>\n    <tr>\n      <th>3</th>\n      <td>103</td>\n      <td>102.0</td>\n      <td>NaN</td>\n      <td>0.009804</td>\n      <td>NaN</td>\n      <td>NaN</td>\n      <td>NaN</td>\n    </tr>\n    <tr>\n      <th>4</th>\n      <td>104</td>\n      <td>103.0</td>\n      <td>102.0</td>\n      <td>0.009709</td>\n      <td>NaN</td>\n      <td>NaN</td>\n      <td>NaN</td>\n    </tr>\n    <tr>\n      <th>5</th>\n      <td>105</td>\n      <td>104.0</td>\n      <td>103.0</td>\n      <td>0.009615</td>\n      <td>0.050000</td>\n      <td>NaN</td>\n      <td>NaN</td>\n    </tr>\n    <tr>\n      <th>6</th>\n      <td>106</td>\n      <td>105.0</td>\n      <td>104.0</td>\n      <td>0.009524</td>\n      <td>0.049505</td>\n      <td>NaN</td>\n      <td>NaN</td>\n    </tr>\n    <tr>\n      <th>7</th>\n      <td>107</td>\n      <td>106.0</td>\n      <td>105.0</td>\n      <td>0.009434</td>\n      <td>0.049020</td>\n      <td>NaN</td>\n      <td>NaN</td>\n    </tr>\n    <tr>\n      <th>8</th>\n      <td>108</td>\n      <td>107.0</td>\n      <td>106.0</td>\n      <td>0.009346</td>\n      <td>0.048544</td>\n      <td>NaN</td>\n      <td>NaN</td>\n    </tr>\n    <tr>\n      <th>9</th>\n      <td>109</td>\n      <td>108.0</td>\n      <td>107.0</td>\n      <td>0.009259</td>\n      <td>0.048077</td>\n      <td>NaN</td>\n      <td>NaN</td>\n    </tr>\n    <tr>\n      <th>10</th>\n      <td>110</td>\n      <td>109.0</td>\n      <td>108.0</td>\n      <td>0.009174</td>\n      <td>0.047619</td>\n      <td>0.100000</td>\n      <td>NaN</td>\n    </tr>\n    <tr>\n      <th>11</th>\n      <td>111</td>\n      <td>110.0</td>\n      <td>109.0</td>\n      <td>0.009091</td>\n      <td>0.047170</td>\n      <td>0.099010</td>\n      <td>NaN</td>\n    </tr>\n    <tr>\n      <th>12</th>\n      <td>112</td>\n      <td>111.0</td>\n      <td>110.0</td>\n      <td>0.009009</td>\n      <td>0.046729</td>\n      <td>0.098039</td>\n      <td>NaN</td>\n    </tr>\n    <tr>\n      <th>13</th>\n      <td>113</td>\n      <td>112.0</td>\n      <td>111.0</td>\n      <td>0.008929</td>\n      <td>0.046296</td>\n      <td>0.097087</td>\n      <td>NaN</td>\n    </tr>\n    <tr>\n      <th>14</th>\n      <td>114</td>\n      <td>113.0</td>\n      <td>112.0</td>\n      <td>0.008850</td>\n      <td>0.045872</td>\n      <td>0.096154</td>\n      <td>NaN</td>\n    </tr>\n    <tr>\n      <th>15</th>\n      <td>115</td>\n      <td>114.0</td>\n      <td>113.0</td>\n      <td>0.008772</td>\n      <td>0.045455</td>\n      <td>0.095238</td>\n      <td>NaN</td>\n    </tr>\n    <tr>\n      <th>16</th>\n      <td>116</td>\n      <td>115.0</td>\n      <td>114.0</td>\n      <td>0.008696</td>\n      <td>0.045045</td>\n      <td>0.094340</td>\n      <td>NaN</td>\n    </tr>\n    <tr>\n      <th>17</th>\n      <td>117</td>\n      <td>116.0</td>\n      <td>115.0</td>\n      <td>0.008621</td>\n      <td>0.044643</td>\n      <td>0.093458</td>\n      <td>NaN</td>\n    </tr>\n    <tr>\n      <th>18</th>\n      <td>118</td>\n      <td>117.0</td>\n      <td>116.0</td>\n      <td>0.008547</td>\n      <td>0.044248</td>\n      <td>0.092593</td>\n      <td>NaN</td>\n    </tr>\n    <tr>\n      <th>19</th>\n      <td>119</td>\n      <td>118.0</td>\n      <td>117.0</td>\n      <td>0.008475</td>\n      <td>0.043860</td>\n      <td>0.091743</td>\n      <td>NaN</td>\n    </tr>\n    <tr>\n      <th>20</th>\n      <td>120</td>\n      <td>119.0</td>\n      <td>118.0</td>\n      <td>0.008403</td>\n      <td>0.043478</td>\n      <td>0.090909</td>\n      <td>0.2</td>\n    </tr>\n  </tbody>\n</table>\n</div>"
     },
     "metadata": {},
     "execution_count": 16
    }
   ],
   "source": [
    "\n",
    "df['daily'] = df[0].pct_change(1)\n",
    "df['5days'] = df[0].pct_change(5)\n",
    "df['10days'] = df[0].pct_change(10)\n",
    "df['20days'] = df[0].pct_change(20)\n",
    "\n",
    "df"
   ]
  },
  {
   "cell_type": "code",
   "execution_count": null,
   "metadata": {},
   "outputs": [],
   "source": []
  }
 ],
 "metadata": {
  "language_info": {
   "codemirror_mode": {
    "name": "ipython",
    "version": 3
   },
   "file_extension": ".py",
   "mimetype": "text/x-python",
   "name": "python",
   "nbconvert_exporter": "python",
   "pygments_lexer": "ipython3",
   "version": "3.8.3-final"
  },
  "orig_nbformat": 2,
  "kernelspec": {
   "name": "python38364bitenv1venv8024a680c7ed423691a2b39656b6ce4c",
   "display_name": "Python 3.8.3 64-bit ('env1': venv)"
  }
 },
 "nbformat": 4,
 "nbformat_minor": 2
}