{
 "cells": [
  {
   "cell_type": "code",
   "execution_count": 2,
   "metadata": {},
   "outputs": [],
   "source": [
    "import pandas as pd\n",
    "\n",
    "\n",
    "## CONSTs\n",
    "#tickers folder\n",
    "TICKERS_FOLDER = \".\\\\data\\\\tickers\\\\\"\n"
   ]
  },
  {
   "cell_type": "code",
   "execution_count": 24,
   "metadata": {},
   "outputs": [
    {
     "output_type": "execute_result",
     "data": {
      "text/plain": "           Date        High         Low        Open       Close     Volume  \\\n0    10/10/2019  294.209992  291.000000  291.179993  293.239990   55296300   \n1    10/11/2019  298.739990  296.140015  296.269989  296.279999   98720400   \n2    10/14/2019  296.670013  295.570007  295.929993  295.950012   40394800   \n3    10/15/2019  299.700012  296.970001  297.100006  298.880005   46754500   \n4    10/16/2019  299.160004  297.920013  298.369995  298.399994   48928200   \n..          ...         ...         ...         ...         ...        ...   \n166    6/9/2020  323.279999  319.359985  320.299988  320.790008   77479200   \n167   6/10/2020  322.390015  318.220001  321.420013  319.000000   95000800   \n168   6/11/2020  312.149994  300.010010  311.459992  300.609985  209243600   \n169   6/12/2020  309.079987  298.600006  308.239990  304.209992  194529100   \n170   6/15/2020  308.279999  296.739990  298.019989  307.049988  135147500   \n\n      Adj Close  \n0    290.099457  \n1    293.106903  \n2    292.780457  \n3    295.679077  \n4    295.204193  \n..          ...  \n166  320.790008  \n167  319.000000  \n168  300.609985  \n169  304.209992  \n170  307.049988  \n\n[171 rows x 7 columns]",
      "text/html": "<div>\n<style scoped>\n    .dataframe tbody tr th:only-of-type {\n        vertical-align: middle;\n    }\n\n    .dataframe tbody tr th {\n        vertical-align: top;\n    }\n\n    .dataframe thead th {\n        text-align: right;\n    }\n</style>\n<table border=\"1\" class=\"dataframe\">\n  <thead>\n    <tr style=\"text-align: right;\">\n      <th></th>\n      <th>Date</th>\n      <th>High</th>\n      <th>Low</th>\n      <th>Open</th>\n      <th>Close</th>\n      <th>Volume</th>\n      <th>Adj Close</th>\n    </tr>\n  </thead>\n  <tbody>\n    <tr>\n      <th>0</th>\n      <td>10/10/2019</td>\n      <td>294.209992</td>\n      <td>291.000000</td>\n      <td>291.179993</td>\n      <td>293.239990</td>\n      <td>55296300</td>\n      <td>290.099457</td>\n    </tr>\n    <tr>\n      <th>1</th>\n      <td>10/11/2019</td>\n      <td>298.739990</td>\n      <td>296.140015</td>\n      <td>296.269989</td>\n      <td>296.279999</td>\n      <td>98720400</td>\n      <td>293.106903</td>\n    </tr>\n    <tr>\n      <th>2</th>\n      <td>10/14/2019</td>\n      <td>296.670013</td>\n      <td>295.570007</td>\n      <td>295.929993</td>\n      <td>295.950012</td>\n      <td>40394800</td>\n      <td>292.780457</td>\n    </tr>\n    <tr>\n      <th>3</th>\n      <td>10/15/2019</td>\n      <td>299.700012</td>\n      <td>296.970001</td>\n      <td>297.100006</td>\n      <td>298.880005</td>\n      <td>46754500</td>\n      <td>295.679077</td>\n    </tr>\n    <tr>\n      <th>4</th>\n      <td>10/16/2019</td>\n      <td>299.160004</td>\n      <td>297.920013</td>\n      <td>298.369995</td>\n      <td>298.399994</td>\n      <td>48928200</td>\n      <td>295.204193</td>\n    </tr>\n    <tr>\n      <th>...</th>\n      <td>...</td>\n      <td>...</td>\n      <td>...</td>\n      <td>...</td>\n      <td>...</td>\n      <td>...</td>\n      <td>...</td>\n    </tr>\n    <tr>\n      <th>166</th>\n      <td>6/9/2020</td>\n      <td>323.279999</td>\n      <td>319.359985</td>\n      <td>320.299988</td>\n      <td>320.790008</td>\n      <td>77479200</td>\n      <td>320.790008</td>\n    </tr>\n    <tr>\n      <th>167</th>\n      <td>6/10/2020</td>\n      <td>322.390015</td>\n      <td>318.220001</td>\n      <td>321.420013</td>\n      <td>319.000000</td>\n      <td>95000800</td>\n      <td>319.000000</td>\n    </tr>\n    <tr>\n      <th>168</th>\n      <td>6/11/2020</td>\n      <td>312.149994</td>\n      <td>300.010010</td>\n      <td>311.459992</td>\n      <td>300.609985</td>\n      <td>209243600</td>\n      <td>300.609985</td>\n    </tr>\n    <tr>\n      <th>169</th>\n      <td>6/12/2020</td>\n      <td>309.079987</td>\n      <td>298.600006</td>\n      <td>308.239990</td>\n      <td>304.209992</td>\n      <td>194529100</td>\n      <td>304.209992</td>\n    </tr>\n    <tr>\n      <th>170</th>\n      <td>6/15/2020</td>\n      <td>308.279999</td>\n      <td>296.739990</td>\n      <td>298.019989</td>\n      <td>307.049988</td>\n      <td>135147500</td>\n      <td>307.049988</td>\n    </tr>\n  </tbody>\n</table>\n<p>171 rows × 7 columns</p>\n</div>"
     },
     "metadata": {},
     "execution_count": 24
    }
   ],
   "source": [
    "# read ticker from CSV (or online)\n",
    "# spy.csv --> 2010/1/1\n",
    "# spy1.csv --> added MA, etc..\n",
    "# spy2.csv --> 2018/1/1 for testing\n",
    "#df = pd.read_csv( TICKERS_FOLDER + 'spy2.csv', parse_dates=True, index_col=0)\n",
    "df = pd.read_csv( TICKERS_FOLDER + 'spy2.csv')\n",
    "\n",
    "df"
   ]
  },
  {
   "cell_type": "code",
   "execution_count": 5,
   "metadata": {},
   "outputs": [
    {
     "output_type": "execute_result",
     "data": {
      "text/plain": "                  High         Low        Open       Close       Volume  \\\nDate                                                                      \n2010-01-04  113.389999  111.510002  112.370003  113.330002  118944600.0   \n2010-01-05  113.680000  112.849998  113.260002  113.629997  111579900.0   \n2010-01-06  113.989998  113.430000  113.519997  113.709999  116074400.0   \n2010-01-07  114.330002  113.180000  113.500000  114.190002  131091100.0   \n2010-01-08  114.620003  113.660004  113.889999  114.570000  126402800.0   \n...                ...         ...         ...         ...          ...   \n2020-06-09  323.279999  319.359985  320.299988  320.790009   77479200.0   \n2020-06-10  322.390015  318.220001  321.420013  319.000000   95000800.0   \n2020-06-11  312.149994  300.010010  311.459991  300.609985  209243600.0   \n2020-06-12  309.079987  298.600006  308.239990  304.209991  194529100.0   \n2020-06-15  308.279999  296.739990  298.019989  307.049988  135147500.0   \n\n             Adj Close   5 days ma  10 days ma  20 days ma  50 days ma  \\\nDate                                                                     \n2010-01-04   92.246048         NaN         NaN         NaN         NaN   \n2010-01-05   92.490204         NaN         NaN         NaN         NaN   \n2010-01-06   92.555328         NaN         NaN         NaN         NaN   \n2010-01-07   92.946060         NaN         NaN         NaN         NaN   \n2010-01-08   93.255348  113.886000         NaN         NaN         NaN   \n...                ...         ...         ...         ...         ...   \n2020-06-09  320.790009  317.373999  311.131998  301.206999  286.731001   \n2020-06-10  319.000000  318.738000  312.678998  302.823499  287.878001   \n2020-06-11  300.609985  316.588000  312.442996  303.773997  288.735201   \n2020-06-12  304.209991  313.562000  312.431995  304.735997  289.896400   \n2020-06-15  307.049988  310.331995  312.581995  305.774496  291.000800   \n\n            100 days ma  200 days ma  \nDate                                  \n2010-01-04          NaN          NaN  \n2010-01-05          NaN          NaN  \n2010-01-06          NaN          NaN  \n2010-01-07          NaN          NaN  \n2010-01-08          NaN          NaN  \n...                 ...          ...  \n2020-06-09   294.750701    300.65800  \n2020-06-10   294.631501    300.82875  \n2020-06-11   294.318101    300.89180  \n2020-06-12   294.047201    300.97850  \n2020-06-15   293.804301    301.06930  \n\n[2630 rows x 12 columns]",
      "text/html": "<div>\n<style scoped>\n    .dataframe tbody tr th:only-of-type {\n        vertical-align: middle;\n    }\n\n    .dataframe tbody tr th {\n        vertical-align: top;\n    }\n\n    .dataframe thead th {\n        text-align: right;\n    }\n</style>\n<table border=\"1\" class=\"dataframe\">\n  <thead>\n    <tr style=\"text-align: right;\">\n      <th></th>\n      <th>High</th>\n      <th>Low</th>\n      <th>Open</th>\n      <th>Close</th>\n      <th>Volume</th>\n      <th>Adj Close</th>\n      <th>5 days ma</th>\n      <th>10 days ma</th>\n      <th>20 days ma</th>\n      <th>50 days ma</th>\n      <th>100 days ma</th>\n      <th>200 days ma</th>\n    </tr>\n    <tr>\n      <th>Date</th>\n      <th></th>\n      <th></th>\n      <th></th>\n      <th></th>\n      <th></th>\n      <th></th>\n      <th></th>\n      <th></th>\n      <th></th>\n      <th></th>\n      <th></th>\n      <th></th>\n    </tr>\n  </thead>\n  <tbody>\n    <tr>\n      <th>2010-01-04</th>\n      <td>113.389999</td>\n      <td>111.510002</td>\n      <td>112.370003</td>\n      <td>113.330002</td>\n      <td>118944600.0</td>\n      <td>92.246048</td>\n      <td>NaN</td>\n      <td>NaN</td>\n      <td>NaN</td>\n      <td>NaN</td>\n      <td>NaN</td>\n      <td>NaN</td>\n    </tr>\n    <tr>\n      <th>2010-01-05</th>\n      <td>113.680000</td>\n      <td>112.849998</td>\n      <td>113.260002</td>\n      <td>113.629997</td>\n      <td>111579900.0</td>\n      <td>92.490204</td>\n      <td>NaN</td>\n      <td>NaN</td>\n      <td>NaN</td>\n      <td>NaN</td>\n      <td>NaN</td>\n      <td>NaN</td>\n    </tr>\n    <tr>\n      <th>2010-01-06</th>\n      <td>113.989998</td>\n      <td>113.430000</td>\n      <td>113.519997</td>\n      <td>113.709999</td>\n      <td>116074400.0</td>\n      <td>92.555328</td>\n      <td>NaN</td>\n      <td>NaN</td>\n      <td>NaN</td>\n      <td>NaN</td>\n      <td>NaN</td>\n      <td>NaN</td>\n    </tr>\n    <tr>\n      <th>2010-01-07</th>\n      <td>114.330002</td>\n      <td>113.180000</td>\n      <td>113.500000</td>\n      <td>114.190002</td>\n      <td>131091100.0</td>\n      <td>92.946060</td>\n      <td>NaN</td>\n      <td>NaN</td>\n      <td>NaN</td>\n      <td>NaN</td>\n      <td>NaN</td>\n      <td>NaN</td>\n    </tr>\n    <tr>\n      <th>2010-01-08</th>\n      <td>114.620003</td>\n      <td>113.660004</td>\n      <td>113.889999</td>\n      <td>114.570000</td>\n      <td>126402800.0</td>\n      <td>93.255348</td>\n      <td>113.886000</td>\n      <td>NaN</td>\n      <td>NaN</td>\n      <td>NaN</td>\n      <td>NaN</td>\n      <td>NaN</td>\n    </tr>\n    <tr>\n      <th>...</th>\n      <td>...</td>\n      <td>...</td>\n      <td>...</td>\n      <td>...</td>\n      <td>...</td>\n      <td>...</td>\n      <td>...</td>\n      <td>...</td>\n      <td>...</td>\n      <td>...</td>\n      <td>...</td>\n      <td>...</td>\n    </tr>\n    <tr>\n      <th>2020-06-09</th>\n      <td>323.279999</td>\n      <td>319.359985</td>\n      <td>320.299988</td>\n      <td>320.790009</td>\n      <td>77479200.0</td>\n      <td>320.790009</td>\n      <td>317.373999</td>\n      <td>311.131998</td>\n      <td>301.206999</td>\n      <td>286.731001</td>\n      <td>294.750701</td>\n      <td>300.65800</td>\n    </tr>\n    <tr>\n      <th>2020-06-10</th>\n      <td>322.390015</td>\n      <td>318.220001</td>\n      <td>321.420013</td>\n      <td>319.000000</td>\n      <td>95000800.0</td>\n      <td>319.000000</td>\n      <td>318.738000</td>\n      <td>312.678998</td>\n      <td>302.823499</td>\n      <td>287.878001</td>\n      <td>294.631501</td>\n      <td>300.82875</td>\n    </tr>\n    <tr>\n      <th>2020-06-11</th>\n      <td>312.149994</td>\n      <td>300.010010</td>\n      <td>311.459991</td>\n      <td>300.609985</td>\n      <td>209243600.0</td>\n      <td>300.609985</td>\n      <td>316.588000</td>\n      <td>312.442996</td>\n      <td>303.773997</td>\n      <td>288.735201</td>\n      <td>294.318101</td>\n      <td>300.89180</td>\n    </tr>\n    <tr>\n      <th>2020-06-12</th>\n      <td>309.079987</td>\n      <td>298.600006</td>\n      <td>308.239990</td>\n      <td>304.209991</td>\n      <td>194529100.0</td>\n      <td>304.209991</td>\n      <td>313.562000</td>\n      <td>312.431995</td>\n      <td>304.735997</td>\n      <td>289.896400</td>\n      <td>294.047201</td>\n      <td>300.97850</td>\n    </tr>\n    <tr>\n      <th>2020-06-15</th>\n      <td>308.279999</td>\n      <td>296.739990</td>\n      <td>298.019989</td>\n      <td>307.049988</td>\n      <td>135147500.0</td>\n      <td>307.049988</td>\n      <td>310.331995</td>\n      <td>312.581995</td>\n      <td>305.774496</td>\n      <td>291.000800</td>\n      <td>293.804301</td>\n      <td>301.06930</td>\n    </tr>\n  </tbody>\n</table>\n<p>2630 rows × 12 columns</p>\n</div>"
     },
     "metadata": {},
     "execution_count": 5
    }
   ],
   "source": [
    "\n",
    "# build moving averages\n",
    "df['5 days ma'] = df['Close'].rolling(window=5).mean()\n",
    "\n",
    "df['10 days ma'] = df['Close'].rolling(window=10).mean()\n",
    "\n",
    "df['20 days ma'] = df['Close'].rolling(window=21).mean()\n",
    "\n",
    "df['50 days ma'] = df['Close'].rolling(window=50).mean()\n",
    "\n",
    "df['100 days ma'] = df['Close'].rolling(window=100).mean()\n",
    "\n",
    "df['200 days ma'] = df['Close'].rolling(window=200).mean()\n",
    "\n",
    "df\n"
   ]
  },
  {
   "cell_type": "code",
   "execution_count": 25,
   "metadata": {},
   "outputs": [
    {
     "output_type": "execute_result",
     "data": {
      "text/plain": "           Date        High         Low        Open       Close     Volume  \\\n0    10/10/2019  294.209992  291.000000  291.179993  293.239990   55296300   \n1    10/11/2019  298.739990  296.140015  296.269989  296.279999   98720400   \n2    10/14/2019  296.670013  295.570007  295.929993  295.950012   40394800   \n3    10/15/2019  299.700012  296.970001  297.100006  298.880005   46754500   \n4    10/16/2019  299.160004  297.920013  298.369995  298.399994   48928200   \n..          ...         ...         ...         ...         ...        ...   \n166    6/9/2020  323.279999  319.359985  320.299988  320.790008   77479200   \n167   6/10/2020  322.390015  318.220001  321.420013  319.000000   95000800   \n168   6/11/2020  312.149994  300.010010  311.459992  300.609985  209243600   \n169   6/12/2020  309.079987  298.600006  308.239990  304.209992  194529100   \n170   6/15/2020  308.279999  296.739990  298.019989  307.049988  135147500   \n\n      Adj Close  1 day return  5 days return  10 days return  21 days return  \\\n0    290.099457           NaN            NaN             NaN             NaN   \n1    293.106903      0.010367            NaN             NaN             NaN   \n2    292.780457     -0.001114            NaN             NaN             NaN   \n3    295.679077      0.009900            NaN             NaN             NaN   \n4    295.204193     -0.001606            NaN             NaN             NaN   \n..          ...           ...            ...             ...             ...   \n166  320.790008     -0.007457       0.041256        0.072589        0.096943   \n167  319.000000     -0.005580       0.021846        0.050967        0.090598   \n168  300.609985     -0.057649      -0.034526       -0.007790        0.048627   \n169  304.209992      0.011976      -0.047379       -0.000362        0.080291   \n170  307.049988      0.009336      -0.049969        0.004909        0.077482   \n\n     63 days return  127 days return  253 days return  \n0               NaN              NaN              NaN  \n1               NaN              NaN              NaN  \n2               NaN              NaN              NaN  \n3               NaN              NaN              NaN  \n4               NaN              NaN              NaN  \n..              ...              ...              ...  \n166        0.112232         0.112232         0.112232  \n167        0.162706         0.162706         0.162706  \n168        0.211600         0.211600         0.211600  \n169        0.129548         0.129548         0.129548  \n170        0.280175         0.280175         0.280175  \n\n[171 rows x 14 columns]",
      "text/html": "<div>\n<style scoped>\n    .dataframe tbody tr th:only-of-type {\n        vertical-align: middle;\n    }\n\n    .dataframe tbody tr th {\n        vertical-align: top;\n    }\n\n    .dataframe thead th {\n        text-align: right;\n    }\n</style>\n<table border=\"1\" class=\"dataframe\">\n  <thead>\n    <tr style=\"text-align: right;\">\n      <th></th>\n      <th>Date</th>\n      <th>High</th>\n      <th>Low</th>\n      <th>Open</th>\n      <th>Close</th>\n      <th>Volume</th>\n      <th>Adj Close</th>\n      <th>1 day return</th>\n      <th>5 days return</th>\n      <th>10 days return</th>\n      <th>21 days return</th>\n      <th>63 days return</th>\n      <th>127 days return</th>\n      <th>253 days return</th>\n    </tr>\n  </thead>\n  <tbody>\n    <tr>\n      <th>0</th>\n      <td>10/10/2019</td>\n      <td>294.209992</td>\n      <td>291.000000</td>\n      <td>291.179993</td>\n      <td>293.239990</td>\n      <td>55296300</td>\n      <td>290.099457</td>\n      <td>NaN</td>\n      <td>NaN</td>\n      <td>NaN</td>\n      <td>NaN</td>\n      <td>NaN</td>\n      <td>NaN</td>\n      <td>NaN</td>\n    </tr>\n    <tr>\n      <th>1</th>\n      <td>10/11/2019</td>\n      <td>298.739990</td>\n      <td>296.140015</td>\n      <td>296.269989</td>\n      <td>296.279999</td>\n      <td>98720400</td>\n      <td>293.106903</td>\n      <td>0.010367</td>\n      <td>NaN</td>\n      <td>NaN</td>\n      <td>NaN</td>\n      <td>NaN</td>\n      <td>NaN</td>\n      <td>NaN</td>\n    </tr>\n    <tr>\n      <th>2</th>\n      <td>10/14/2019</td>\n      <td>296.670013</td>\n      <td>295.570007</td>\n      <td>295.929993</td>\n      <td>295.950012</td>\n      <td>40394800</td>\n      <td>292.780457</td>\n      <td>-0.001114</td>\n      <td>NaN</td>\n      <td>NaN</td>\n      <td>NaN</td>\n      <td>NaN</td>\n      <td>NaN</td>\n      <td>NaN</td>\n    </tr>\n    <tr>\n      <th>3</th>\n      <td>10/15/2019</td>\n      <td>299.700012</td>\n      <td>296.970001</td>\n      <td>297.100006</td>\n      <td>298.880005</td>\n      <td>46754500</td>\n      <td>295.679077</td>\n      <td>0.009900</td>\n      <td>NaN</td>\n      <td>NaN</td>\n      <td>NaN</td>\n      <td>NaN</td>\n      <td>NaN</td>\n      <td>NaN</td>\n    </tr>\n    <tr>\n      <th>4</th>\n      <td>10/16/2019</td>\n      <td>299.160004</td>\n      <td>297.920013</td>\n      <td>298.369995</td>\n      <td>298.399994</td>\n      <td>48928200</td>\n      <td>295.204193</td>\n      <td>-0.001606</td>\n      <td>NaN</td>\n      <td>NaN</td>\n      <td>NaN</td>\n      <td>NaN</td>\n      <td>NaN</td>\n      <td>NaN</td>\n    </tr>\n    <tr>\n      <th>...</th>\n      <td>...</td>\n      <td>...</td>\n      <td>...</td>\n      <td>...</td>\n      <td>...</td>\n      <td>...</td>\n      <td>...</td>\n      <td>...</td>\n      <td>...</td>\n      <td>...</td>\n      <td>...</td>\n      <td>...</td>\n      <td>...</td>\n      <td>...</td>\n    </tr>\n    <tr>\n      <th>166</th>\n      <td>6/9/2020</td>\n      <td>323.279999</td>\n      <td>319.359985</td>\n      <td>320.299988</td>\n      <td>320.790008</td>\n      <td>77479200</td>\n      <td>320.790008</td>\n      <td>-0.007457</td>\n      <td>0.041256</td>\n      <td>0.072589</td>\n      <td>0.096943</td>\n      <td>0.112232</td>\n      <td>0.112232</td>\n      <td>0.112232</td>\n    </tr>\n    <tr>\n      <th>167</th>\n      <td>6/10/2020</td>\n      <td>322.390015</td>\n      <td>318.220001</td>\n      <td>321.420013</td>\n      <td>319.000000</td>\n      <td>95000800</td>\n      <td>319.000000</td>\n      <td>-0.005580</td>\n      <td>0.021846</td>\n      <td>0.050967</td>\n      <td>0.090598</td>\n      <td>0.162706</td>\n      <td>0.162706</td>\n      <td>0.162706</td>\n    </tr>\n    <tr>\n      <th>168</th>\n      <td>6/11/2020</td>\n      <td>312.149994</td>\n      <td>300.010010</td>\n      <td>311.459992</td>\n      <td>300.609985</td>\n      <td>209243600</td>\n      <td>300.609985</td>\n      <td>-0.057649</td>\n      <td>-0.034526</td>\n      <td>-0.007790</td>\n      <td>0.048627</td>\n      <td>0.211600</td>\n      <td>0.211600</td>\n      <td>0.211600</td>\n    </tr>\n    <tr>\n      <th>169</th>\n      <td>6/12/2020</td>\n      <td>309.079987</td>\n      <td>298.600006</td>\n      <td>308.239990</td>\n      <td>304.209992</td>\n      <td>194529100</td>\n      <td>304.209992</td>\n      <td>0.011976</td>\n      <td>-0.047379</td>\n      <td>-0.000362</td>\n      <td>0.080291</td>\n      <td>0.129548</td>\n      <td>0.129548</td>\n      <td>0.129548</td>\n    </tr>\n    <tr>\n      <th>170</th>\n      <td>6/15/2020</td>\n      <td>308.279999</td>\n      <td>296.739990</td>\n      <td>298.019989</td>\n      <td>307.049988</td>\n      <td>135147500</td>\n      <td>307.049988</td>\n      <td>0.009336</td>\n      <td>-0.049969</td>\n      <td>0.004909</td>\n      <td>0.077482</td>\n      <td>0.280175</td>\n      <td>0.280175</td>\n      <td>0.280175</td>\n    </tr>\n  </tbody>\n</table>\n<p>171 rows × 14 columns</p>\n</div>"
     },
     "metadata": {},
     "execution_count": 25
    }
   ],
   "source": [
    "# https://en.wikipedia.org/wiki/Trading_da\n",
    "\n",
    "# Build returns\n",
    "df['1 day return'] =  df['Close'].pct_change(1) # 1 for ONE DAY lookback\n",
    "df['5 days return'] =  df['Close'].pct_change(5) \n",
    "df['10 days return'] =  df['Close'].pct_change(10) \n",
    "df['21 days return'] =  df['Close'].pct_change(21)  # monthly\n",
    "df['63 days return'] =  df['Close'].pct_change(63)  # 3 months lookback\n",
    "df['127 days return'] =  df['Close'].pct_change(63)  # 6 months lookback\n",
    "df['253 days return'] =  df['Close'].pct_change(63)  # 12 months lookback \n",
    "\n",
    "df\n"
   ]
  },
  {
   "cell_type": "code",
   "execution_count": 9,
   "metadata": {},
   "outputs": [],
   "source": [
    "# save to disk\n",
    "\n",
    "df.to_csv(TICKERS_FOLDER + 'spy1.csv')"
   ]
  },
  {
   "cell_type": "code",
   "execution_count": 37,
   "metadata": {},
   "outputs": [
    {
     "output_type": "execute_result",
     "data": {
      "text/plain": "Date                4/13/2020\nHigh                   277.51\nLow                    271.41\nOpen                   277.14\nClose                  275.66\nVolume              114839100\nAdj Close              275.66\n1 day return      -0.00913015\n5 days return        0.110681\n10 days return      0.0877595\n21 days return       0.111039\n63 days return      -0.153664\n127 days return     -0.153664\n253 days return     -0.153664\nName: 126, dtype: object"
     },
     "metadata": {},
     "execution_count": 37
    }
   ],
   "source": [
    "\n",
    "window_size = 63\n",
    "\n",
    "df.iloc[window_size*2]\n",
    "\n"
   ]
  },
  {
   "cell_type": "code",
   "execution_count": 34,
   "metadata": {},
   "outputs": [
    {
     "output_type": "stream",
     "name": "stdout",
     "text": "Date              10/24/2019\nClose                 300.37\n10 days return     0.0243146\nName: 10, dtype: object\nRISK ON\nDate     10/24/2019\nClose        300.37\nName: 10, dtype: object\nDate              11/22/2019\nClose                 310.96\n10 days return    0.00653845\nName: 31, dtype: object\nRISK ON\nDate     11/22/2019\nClose        310.96\nName: 31, dtype: object\nDate              12/24/2019\nClose                 321.23\n10 days return     0.0245591\nName: 52, dtype: object\nRISK ON\nDate     12/24/2019\nClose        321.23\nName: 52, dtype: object\nDate               1/27/2020\nClose                  323.5\n10 days return   -0.00678515\nName: 73, dtype: object\nRISK OFF\n"
    },
    {
     "output_type": "error",
     "ename": "UFuncTypeError",
     "evalue": "ufunc 'add' did not contain a loop with signature matching types (dtype('<U32'), dtype('<U32')) -> dtype('<U32')",
     "traceback": [
      "\u001b[1;31m---------------------------------------------------------------------------\u001b[0m",
      "\u001b[1;31mUFuncTypeError\u001b[0m                            Traceback (most recent call last)",
      "\u001b[1;32mc:\\data\\repos\\fin\\momentum\\env1\\lib\\site-packages\\pandas\\core\\ops\\array_ops.py\u001b[0m in \u001b[0;36mna_arithmetic_op\u001b[1;34m(left, right, op, str_rep)\u001b[0m\n\u001b[0;32m    148\u001b[0m     \u001b[1;32mtry\u001b[0m\u001b[1;33m:\u001b[0m\u001b[1;33m\u001b[0m\u001b[1;33m\u001b[0m\u001b[0m\n\u001b[1;32m--> 149\u001b[1;33m         \u001b[0mresult\u001b[0m \u001b[1;33m=\u001b[0m \u001b[0mexpressions\u001b[0m\u001b[1;33m.\u001b[0m\u001b[0mevaluate\u001b[0m\u001b[1;33m(\u001b[0m\u001b[0mop\u001b[0m\u001b[1;33m,\u001b[0m \u001b[0mstr_rep\u001b[0m\u001b[1;33m,\u001b[0m \u001b[0mleft\u001b[0m\u001b[1;33m,\u001b[0m \u001b[0mright\u001b[0m\u001b[1;33m)\u001b[0m\u001b[1;33m\u001b[0m\u001b[1;33m\u001b[0m\u001b[0m\n\u001b[0m\u001b[0;32m    150\u001b[0m     \u001b[1;32mexcept\u001b[0m \u001b[0mTypeError\u001b[0m\u001b[1;33m:\u001b[0m\u001b[1;33m\u001b[0m\u001b[1;33m\u001b[0m\u001b[0m\n",
      "\u001b[1;32mc:\\data\\repos\\fin\\momentum\\env1\\lib\\site-packages\\pandas\\core\\computation\\expressions.py\u001b[0m in \u001b[0;36mevaluate\u001b[1;34m(op, op_str, a, b, use_numexpr)\u001b[0m\n\u001b[0;32m    207\u001b[0m     \u001b[1;32mif\u001b[0m \u001b[0muse_numexpr\u001b[0m\u001b[1;33m:\u001b[0m\u001b[1;33m\u001b[0m\u001b[1;33m\u001b[0m\u001b[0m\n\u001b[1;32m--> 208\u001b[1;33m         \u001b[1;32mreturn\u001b[0m \u001b[0m_evaluate\u001b[0m\u001b[1;33m(\u001b[0m\u001b[0mop\u001b[0m\u001b[1;33m,\u001b[0m \u001b[0mop_str\u001b[0m\u001b[1;33m,\u001b[0m \u001b[0ma\u001b[0m\u001b[1;33m,\u001b[0m \u001b[0mb\u001b[0m\u001b[1;33m)\u001b[0m\u001b[1;33m\u001b[0m\u001b[1;33m\u001b[0m\u001b[0m\n\u001b[0m\u001b[0;32m    209\u001b[0m     \u001b[1;32mreturn\u001b[0m \u001b[0m_evaluate_standard\u001b[0m\u001b[1;33m(\u001b[0m\u001b[0mop\u001b[0m\u001b[1;33m,\u001b[0m \u001b[0mop_str\u001b[0m\u001b[1;33m,\u001b[0m \u001b[0ma\u001b[0m\u001b[1;33m,\u001b[0m \u001b[0mb\u001b[0m\u001b[1;33m)\u001b[0m\u001b[1;33m\u001b[0m\u001b[1;33m\u001b[0m\u001b[0m\n",
      "\u001b[1;32mc:\\data\\repos\\fin\\momentum\\env1\\lib\\site-packages\\pandas\\core\\computation\\expressions.py\u001b[0m in \u001b[0;36m_evaluate_standard\u001b[1;34m(op, op_str, a, b)\u001b[0m\n\u001b[0;32m     69\u001b[0m     \u001b[1;32mwith\u001b[0m \u001b[0mnp\u001b[0m\u001b[1;33m.\u001b[0m\u001b[0merrstate\u001b[0m\u001b[1;33m(\u001b[0m\u001b[0mall\u001b[0m\u001b[1;33m=\u001b[0m\u001b[1;34m\"ignore\"\u001b[0m\u001b[1;33m)\u001b[0m\u001b[1;33m:\u001b[0m\u001b[1;33m\u001b[0m\u001b[1;33m\u001b[0m\u001b[0m\n\u001b[1;32m---> 70\u001b[1;33m         \u001b[1;32mreturn\u001b[0m \u001b[0mop\u001b[0m\u001b[1;33m(\u001b[0m\u001b[0ma\u001b[0m\u001b[1;33m,\u001b[0m \u001b[0mb\u001b[0m\u001b[1;33m)\u001b[0m\u001b[1;33m\u001b[0m\u001b[1;33m\u001b[0m\u001b[0m\n\u001b[0m\u001b[0;32m     71\u001b[0m \u001b[1;33m\u001b[0m\u001b[0m\n",
      "\u001b[1;31mUFuncTypeError\u001b[0m: ufunc 'add' did not contain a loop with signature matching types (dtype('<U32'), dtype('<U32')) -> dtype('<U32')",
      "\nDuring handling of the above exception, another exception occurred:\n",
      "\u001b[1;31mUFuncTypeError\u001b[0m                            Traceback (most recent call last)",
      "\u001b[1;32m<ipython-input-34-4138bedbc71a>\u001b[0m in \u001b[0;36m<module>\u001b[1;34m\u001b[0m\n\u001b[0;32m     19\u001b[0m         \u001b[0mclose_price_to_copy\u001b[0m \u001b[1;33m=\u001b[0m \u001b[0mdf\u001b[0m\u001b[1;33m.\u001b[0m\u001b[0miloc\u001b[0m\u001b[1;33m[\u001b[0m\u001b[0maction_day\u001b[0m\u001b[1;33m]\u001b[0m\u001b[1;33m[\u001b[0m\u001b[1;34m\"Close\"\u001b[0m\u001b[1;33m]\u001b[0m\u001b[1;33m\u001b[0m\u001b[1;33m\u001b[0m\u001b[0m\n\u001b[0;32m     20\u001b[0m         \u001b[1;32mfor\u001b[0m \u001b[0mday\u001b[0m \u001b[1;32min\u001b[0m \u001b[0mrange\u001b[0m\u001b[1;33m(\u001b[0m\u001b[0mday\u001b[0m\u001b[1;33m,\u001b[0m \u001b[0maction\u001b[0m\u001b[1;33m,\u001b[0m \u001b[1;36m1\u001b[0m\u001b[1;33m)\u001b[0m\u001b[1;33m:\u001b[0m\u001b[1;33m\u001b[0m\u001b[1;33m\u001b[0m\u001b[0m\n\u001b[1;32m---> 21\u001b[1;33m             \u001b[0mprint\u001b[0m\u001b[1;33m(\u001b[0m \u001b[0mdf\u001b[0m\u001b[1;33m.\u001b[0m\u001b[0miloc\u001b[0m\u001b[1;33m[\u001b[0m\u001b[0maction_day\u001b[0m\u001b[1;33m]\u001b[0m \u001b[1;33m+\u001b[0m \u001b[1;34m\" \"\u001b[0m \u001b[1;33m+\u001b[0m \u001b[0mclose_price_to_copy\u001b[0m\u001b[1;33m)\u001b[0m\u001b[1;33m\u001b[0m\u001b[1;33m\u001b[0m\u001b[0m\n\u001b[0m\u001b[0;32m     22\u001b[0m \u001b[1;33m\u001b[0m\u001b[0m\n\u001b[0;32m     23\u001b[0m \u001b[1;33m\u001b[0m\u001b[0m\n",
      "\u001b[1;32mc:\\data\\repos\\fin\\momentum\\env1\\lib\\site-packages\\pandas\\core\\ops\\common.py\u001b[0m in \u001b[0;36mnew_method\u001b[1;34m(self, other)\u001b[0m\n\u001b[0;32m     62\u001b[0m         \u001b[0mother\u001b[0m \u001b[1;33m=\u001b[0m \u001b[0mitem_from_zerodim\u001b[0m\u001b[1;33m(\u001b[0m\u001b[0mother\u001b[0m\u001b[1;33m)\u001b[0m\u001b[1;33m\u001b[0m\u001b[1;33m\u001b[0m\u001b[0m\n\u001b[0;32m     63\u001b[0m \u001b[1;33m\u001b[0m\u001b[0m\n\u001b[1;32m---> 64\u001b[1;33m         \u001b[1;32mreturn\u001b[0m \u001b[0mmethod\u001b[0m\u001b[1;33m(\u001b[0m\u001b[0mself\u001b[0m\u001b[1;33m,\u001b[0m \u001b[0mother\u001b[0m\u001b[1;33m)\u001b[0m\u001b[1;33m\u001b[0m\u001b[1;33m\u001b[0m\u001b[0m\n\u001b[0m\u001b[0;32m     65\u001b[0m \u001b[1;33m\u001b[0m\u001b[0m\n\u001b[0;32m     66\u001b[0m     \u001b[1;32mreturn\u001b[0m \u001b[0mnew_method\u001b[0m\u001b[1;33m\u001b[0m\u001b[1;33m\u001b[0m\u001b[0m\n",
      "\u001b[1;32mc:\\data\\repos\\fin\\momentum\\env1\\lib\\site-packages\\pandas\\core\\ops\\__init__.py\u001b[0m in \u001b[0;36mwrapper\u001b[1;34m(left, right)\u001b[0m\n\u001b[0;32m    501\u001b[0m         \u001b[0mlvalues\u001b[0m \u001b[1;33m=\u001b[0m \u001b[0mextract_array\u001b[0m\u001b[1;33m(\u001b[0m\u001b[0mleft\u001b[0m\u001b[1;33m,\u001b[0m \u001b[0mextract_numpy\u001b[0m\u001b[1;33m=\u001b[0m\u001b[1;32mTrue\u001b[0m\u001b[1;33m)\u001b[0m\u001b[1;33m\u001b[0m\u001b[1;33m\u001b[0m\u001b[0m\n\u001b[0;32m    502\u001b[0m         \u001b[0mrvalues\u001b[0m \u001b[1;33m=\u001b[0m \u001b[0mextract_array\u001b[0m\u001b[1;33m(\u001b[0m\u001b[0mright\u001b[0m\u001b[1;33m,\u001b[0m \u001b[0mextract_numpy\u001b[0m\u001b[1;33m=\u001b[0m\u001b[1;32mTrue\u001b[0m\u001b[1;33m)\u001b[0m\u001b[1;33m\u001b[0m\u001b[1;33m\u001b[0m\u001b[0m\n\u001b[1;32m--> 503\u001b[1;33m         \u001b[0mresult\u001b[0m \u001b[1;33m=\u001b[0m \u001b[0marithmetic_op\u001b[0m\u001b[1;33m(\u001b[0m\u001b[0mlvalues\u001b[0m\u001b[1;33m,\u001b[0m \u001b[0mrvalues\u001b[0m\u001b[1;33m,\u001b[0m \u001b[0mop\u001b[0m\u001b[1;33m,\u001b[0m \u001b[0mstr_rep\u001b[0m\u001b[1;33m)\u001b[0m\u001b[1;33m\u001b[0m\u001b[1;33m\u001b[0m\u001b[0m\n\u001b[0m\u001b[0;32m    504\u001b[0m \u001b[1;33m\u001b[0m\u001b[0m\n\u001b[0;32m    505\u001b[0m         \u001b[1;32mreturn\u001b[0m \u001b[0m_construct_result\u001b[0m\u001b[1;33m(\u001b[0m\u001b[0mleft\u001b[0m\u001b[1;33m,\u001b[0m \u001b[0mresult\u001b[0m\u001b[1;33m,\u001b[0m \u001b[0mindex\u001b[0m\u001b[1;33m=\u001b[0m\u001b[0mleft\u001b[0m\u001b[1;33m.\u001b[0m\u001b[0mindex\u001b[0m\u001b[1;33m,\u001b[0m \u001b[0mname\u001b[0m\u001b[1;33m=\u001b[0m\u001b[0mres_name\u001b[0m\u001b[1;33m)\u001b[0m\u001b[1;33m\u001b[0m\u001b[1;33m\u001b[0m\u001b[0m\n",
      "\u001b[1;32mc:\\data\\repos\\fin\\momentum\\env1\\lib\\site-packages\\pandas\\core\\ops\\array_ops.py\u001b[0m in \u001b[0;36marithmetic_op\u001b[1;34m(left, right, op, str_rep)\u001b[0m\n\u001b[0;32m    195\u001b[0m     \u001b[1;32melse\u001b[0m\u001b[1;33m:\u001b[0m\u001b[1;33m\u001b[0m\u001b[1;33m\u001b[0m\u001b[0m\n\u001b[0;32m    196\u001b[0m         \u001b[1;32mwith\u001b[0m \u001b[0mnp\u001b[0m\u001b[1;33m.\u001b[0m\u001b[0merrstate\u001b[0m\u001b[1;33m(\u001b[0m\u001b[0mall\u001b[0m\u001b[1;33m=\u001b[0m\u001b[1;34m\"ignore\"\u001b[0m\u001b[1;33m)\u001b[0m\u001b[1;33m:\u001b[0m\u001b[1;33m\u001b[0m\u001b[1;33m\u001b[0m\u001b[0m\n\u001b[1;32m--> 197\u001b[1;33m             \u001b[0mres_values\u001b[0m \u001b[1;33m=\u001b[0m \u001b[0mna_arithmetic_op\u001b[0m\u001b[1;33m(\u001b[0m\u001b[0mlvalues\u001b[0m\u001b[1;33m,\u001b[0m \u001b[0mrvalues\u001b[0m\u001b[1;33m,\u001b[0m \u001b[0mop\u001b[0m\u001b[1;33m,\u001b[0m \u001b[0mstr_rep\u001b[0m\u001b[1;33m)\u001b[0m\u001b[1;33m\u001b[0m\u001b[1;33m\u001b[0m\u001b[0m\n\u001b[0m\u001b[0;32m    198\u001b[0m \u001b[1;33m\u001b[0m\u001b[0m\n\u001b[0;32m    199\u001b[0m     \u001b[1;32mreturn\u001b[0m \u001b[0mres_values\u001b[0m\u001b[1;33m\u001b[0m\u001b[1;33m\u001b[0m\u001b[0m\n",
      "\u001b[1;32mc:\\data\\repos\\fin\\momentum\\env1\\lib\\site-packages\\pandas\\core\\ops\\array_ops.py\u001b[0m in \u001b[0;36mna_arithmetic_op\u001b[1;34m(left, right, op, str_rep)\u001b[0m\n\u001b[0;32m    149\u001b[0m         \u001b[0mresult\u001b[0m \u001b[1;33m=\u001b[0m \u001b[0mexpressions\u001b[0m\u001b[1;33m.\u001b[0m\u001b[0mevaluate\u001b[0m\u001b[1;33m(\u001b[0m\u001b[0mop\u001b[0m\u001b[1;33m,\u001b[0m \u001b[0mstr_rep\u001b[0m\u001b[1;33m,\u001b[0m \u001b[0mleft\u001b[0m\u001b[1;33m,\u001b[0m \u001b[0mright\u001b[0m\u001b[1;33m)\u001b[0m\u001b[1;33m\u001b[0m\u001b[1;33m\u001b[0m\u001b[0m\n\u001b[0;32m    150\u001b[0m     \u001b[1;32mexcept\u001b[0m \u001b[0mTypeError\u001b[0m\u001b[1;33m:\u001b[0m\u001b[1;33m\u001b[0m\u001b[1;33m\u001b[0m\u001b[0m\n\u001b[1;32m--> 151\u001b[1;33m         \u001b[0mresult\u001b[0m \u001b[1;33m=\u001b[0m \u001b[0mmasked_arith_op\u001b[0m\u001b[1;33m(\u001b[0m\u001b[0mleft\u001b[0m\u001b[1;33m,\u001b[0m \u001b[0mright\u001b[0m\u001b[1;33m,\u001b[0m \u001b[0mop\u001b[0m\u001b[1;33m)\u001b[0m\u001b[1;33m\u001b[0m\u001b[1;33m\u001b[0m\u001b[0m\n\u001b[0m\u001b[0;32m    152\u001b[0m \u001b[1;33m\u001b[0m\u001b[0m\n\u001b[0;32m    153\u001b[0m     \u001b[1;32mreturn\u001b[0m \u001b[0mmissing\u001b[0m\u001b[1;33m.\u001b[0m\u001b[0mdispatch_fill_zeros\u001b[0m\u001b[1;33m(\u001b[0m\u001b[0mop\u001b[0m\u001b[1;33m,\u001b[0m \u001b[0mleft\u001b[0m\u001b[1;33m,\u001b[0m \u001b[0mright\u001b[0m\u001b[1;33m,\u001b[0m \u001b[0mresult\u001b[0m\u001b[1;33m)\u001b[0m\u001b[1;33m\u001b[0m\u001b[1;33m\u001b[0m\u001b[0m\n",
      "\u001b[1;32mc:\\data\\repos\\fin\\momentum\\env1\\lib\\site-packages\\pandas\\core\\ops\\array_ops.py\u001b[0m in \u001b[0;36mmasked_arith_op\u001b[1;34m(x, y, op)\u001b[0m\n\u001b[0;32m    110\u001b[0m         \u001b[1;32mif\u001b[0m \u001b[0mmask\u001b[0m\u001b[1;33m.\u001b[0m\u001b[0many\u001b[0m\u001b[1;33m(\u001b[0m\u001b[1;33m)\u001b[0m\u001b[1;33m:\u001b[0m\u001b[1;33m\u001b[0m\u001b[1;33m\u001b[0m\u001b[0m\n\u001b[0;32m    111\u001b[0m             \u001b[1;32mwith\u001b[0m \u001b[0mnp\u001b[0m\u001b[1;33m.\u001b[0m\u001b[0merrstate\u001b[0m\u001b[1;33m(\u001b[0m\u001b[0mall\u001b[0m\u001b[1;33m=\u001b[0m\u001b[1;34m\"ignore\"\u001b[0m\u001b[1;33m)\u001b[0m\u001b[1;33m:\u001b[0m\u001b[1;33m\u001b[0m\u001b[1;33m\u001b[0m\u001b[0m\n\u001b[1;32m--> 112\u001b[1;33m                 \u001b[0mresult\u001b[0m\u001b[1;33m[\u001b[0m\u001b[0mmask\u001b[0m\u001b[1;33m]\u001b[0m \u001b[1;33m=\u001b[0m \u001b[0mop\u001b[0m\u001b[1;33m(\u001b[0m\u001b[0mxrav\u001b[0m\u001b[1;33m[\u001b[0m\u001b[0mmask\u001b[0m\u001b[1;33m]\u001b[0m\u001b[1;33m,\u001b[0m \u001b[0my\u001b[0m\u001b[1;33m)\u001b[0m\u001b[1;33m\u001b[0m\u001b[1;33m\u001b[0m\u001b[0m\n\u001b[0m\u001b[0;32m    113\u001b[0m \u001b[1;33m\u001b[0m\u001b[0m\n\u001b[0;32m    114\u001b[0m     \u001b[0mresult\u001b[0m\u001b[1;33m,\u001b[0m \u001b[0m_\u001b[0m \u001b[1;33m=\u001b[0m \u001b[0mmaybe_upcast_putmask\u001b[0m\u001b[1;33m(\u001b[0m\u001b[0mresult\u001b[0m\u001b[1;33m,\u001b[0m \u001b[1;33m~\u001b[0m\u001b[0mmask\u001b[0m\u001b[1;33m,\u001b[0m \u001b[0mnp\u001b[0m\u001b[1;33m.\u001b[0m\u001b[0mnan\u001b[0m\u001b[1;33m)\u001b[0m\u001b[1;33m\u001b[0m\u001b[1;33m\u001b[0m\u001b[0m\n",
      "\u001b[1;31mUFuncTypeError\u001b[0m: ufunc 'add' did not contain a loop with signature matching types (dtype('<U32'), dtype('<U32')) -> dtype('<U32')"
     ]
    }
   ],
   "source": [
    "# how often do we evaluate and 'take' action\n",
    "action = 21\n",
    "lookback = 10\n",
    "\n",
    "size_of_df = len(df.index)\n",
    "\n",
    "for action_day in range(lookback, size_of_df, action):\n",
    "    day_test = df.iloc[action_day][[\"Date\",\"Close\",\"10 days return\"]]\n",
    "    print(day_test)\n",
    "\n",
    "    if (day_test[\"10 days return\"] > 0):\n",
    "        print(\"RISK ON\")\n",
    "        #copy for durtion of action\n",
    "        for day in range(day, action, 1):\n",
    "            print( df.iloc[action_day][[\"Date\",\"Close\"]])\n",
    "    \n",
    "    else:\n",
    "        print(\"RISK OFF\")\n",
    "        close_price_to_copy = df.iloc[action_day][\"Close\"]\n",
    "        for day in range(day, action, 1):\n",
    "            print( df.iloc[action_day] + \" \" + close_price_to_copy)\n",
    "\n",
    "\n",
    "        #df.iloc[day][\"Abs SPY\"] = df.iloc[day][\"Close\"]\n",
    "\n",
    "#print(df.iloc[day][[\"Close\",\"21 days returns\"]]) "
   ]
  },
  {
   "cell_type": "code",
   "execution_count": null,
   "metadata": {},
   "outputs": [],
   "source": []
  }
 ],
 "metadata": {
  "language_info": {
   "codemirror_mode": {
    "name": "ipython",
    "version": 3
   },
   "file_extension": ".py",
   "mimetype": "text/x-python",
   "name": "python",
   "nbconvert_exporter": "python",
   "pygments_lexer": "ipython3",
   "version": "3.8.3-final"
  },
  "orig_nbformat": 2,
  "kernelspec": {
   "name": "python38364bitenv1venv8024a680c7ed423691a2b39656b6ce4c",
   "display_name": "Python 3.8.3 64-bit ('env1': venv)"
  }
 },
 "nbformat": 4,
 "nbformat_minor": 2
}